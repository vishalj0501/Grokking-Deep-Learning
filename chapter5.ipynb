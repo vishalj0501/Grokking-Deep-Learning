{
 "cells": [
  {
   "cell_type": "code",
   "execution_count": 6,
   "metadata": {},
   "outputs": [],
   "source": [
    "def w_sum(a,b): \n",
    "    assert(len(a) == len(b)) \n",
    "    output = 0\n",
    "    for i in range(len(a)):\n",
    "          output += (a[i] * b[i])\n",
    "    return output\n",
    "weights = [0.1, 0.2, -0.1]\n",
    "def neural_network(input, weights):\n",
    "    pred = w_sum(input,weights)\n",
    "    return pred"
   ]
  },
  {
   "cell_type": "code",
   "execution_count": 7,
   "metadata": {},
   "outputs": [
    {
     "data": {
      "text/plain": [
       "[-1.189999999999999, -0.09099999999999994, -0.16799999999999987]"
      ]
     },
     "execution_count": 7,
     "metadata": {},
     "output_type": "execute_result"
    }
   ],
   "source": [
    "def ele_mul(number,vector):\n",
    "    output = [0,0,0]\n",
    "    assert(len(output) == len(vector))\n",
    "    for i in range(len(vector)):\n",
    "        output[i] = number * vector[i]\n",
    "    return output\n",
    "\n",
    "\n",
    "toes = [8.5, 9.5, 9.9, 9.0] \n",
    "wlrec = [0.65, 0.8, 0.8, 0.9] \n",
    "nfans = [1.2, 1.3, 0.5, 1.0]\n",
    "win_or_lose_binary = [1, 1, 0, 1] \n",
    "true = win_or_lose_binary[0]\n",
    "input = [toes[0],wlrec[0],nfans[0]] \n",
    "pred = neural_network(input,weights) \n",
    "error = (pred - true) ** 2\n",
    "delta = pred - true\n",
    "weight_deltas = ele_mul(delta,input)\n",
    "weight_deltas"
   ]
  },
  {
   "cell_type": "code",
   "execution_count": 8,
   "metadata": {},
   "outputs": [
    {
     "data": {
      "text/plain": [
       "[0.1119, 0.20091, -0.09832]"
      ]
     },
     "execution_count": 8,
     "metadata": {},
     "output_type": "execute_result"
    }
   ],
   "source": [
    "alpha=0.01\n",
    "weight=[]\n",
    "for i in range(len(weights)):\n",
    "    weight.append(weights[i]-alpha*weight_deltas[i])\n",
    "\n",
    "weight"
   ]
  },
  {
   "cell_type": "markdown",
   "metadata": {},
   "source": [
    "## Calculating each weight_delta and putting it on each weight"
   ]
  },
  {
   "cell_type": "code",
   "execution_count": null,
   "metadata": {},
   "outputs": [],
   "source": [
    "def scalar_ele_mul(number,vector):\n",
    "    output=[]\n",
    "    assert(len(output)==len(number))\n",
    "    for i in range(len(vector)):\n",
    "        output.append(number*vector[i])\n",
    "    return output\n",
    "\n",
    "hurt =[0.1, 0.0, 0.0, 0.1]\n",
    "win=[1,1,0,1]\n",
    "sad=[0.1, 0.0, 0.1, 0.2]\n",
    "input = [wlrec[0]]\n",
    "true = [hurt[0], win[0], sad[0]]\n",
    "\n",
    "def neural_network(input, weights): \n",
    "    out = 0\n",
    "    for i in range(len(input)):\n",
    "        out += (input[i] * weights[i])\n",
    "    return out\n",
    "pred = neural_network(input,weights)\n",
    "error = []\n",
    "delta = []\n",
    "for i in range(len(true)):\n",
    "    error.append((pred[i] - true[i])**2)\n",
    "    delta.append(pred[i] - true[i])\n",
    "weight_deltas = scalar_ele_mul(input,weights)\n",
    "\n",
    "weight_deltas"
   ]
  },
  {
   "cell_type": "markdown",
   "metadata": {},
   "source": [
    "### <pre> Gradient Descent --> Multiple Outputs and Multiple Inputs </pre>"
   ]
  },
  {
   "cell_type": "code",
   "execution_count": 1,
   "metadata": {},
   "outputs": [],
   "source": [
    "weights = [ [0.1, 0.1, -0.3],\n",
    "            [0.1, 0.2, 0.0],\n",
    "            [0.0, 1.3, 0.1] ]\n",
    "def w_sum(a,b): \n",
    "    assert(len(a) == len(b)) \n",
    "    output = 0\n",
    "    for i in range(len(a)):\n",
    "          output += (a[i] * b[i])\n",
    "    return output\n",
    "    \n",
    "def vect_mat_mul(vect,matrix): \n",
    "    assert(len(vect) == len(matrix)) \n",
    "    output = [0,0,0]\n",
    "    for i in range(len(vect)):\n",
    "        output[i] = w_sum(vect,matrix[i]) \n",
    "    return output\n",
    "\n",
    "def neural_network(input, weights): \n",
    "    pred = vect_mat_mul(input,weights) \n",
    "    return pred\n",
    "\n",
    "toes = [8.5, 9.5, 9.9, 9.0] \n",
    "wlrec = [0.65, 0.8, 0.8, 0.9] \n",
    "nfans = [1.2, 1.3, 0.5, 1.0]\n",
    "\n",
    "hurt = [0.1, 0.0, 0.0, 0.1]\n",
    "win =[1,1,0,1] \n",
    "sad = [0.1, 0.0, 0.1, 0.2]\n",
    "\n",
    "alpha = 0.01\n",
    "input = [toes[0],wlrec[0],nfans[0]] \n",
    "true = [hurt[0], win[0], sad[0]]\n",
    "\n",
    "pred = neural_network(input,weights) \n",
    "error = [0, 0, 0]\n",
    "delta = [0, 0, 0]"
   ]
  },
  {
   "cell_type": "markdown",
   "metadata": {},
   "source": [
    "### Calculating each weight_delta and putting it on each weight"
   ]
  },
  {
   "cell_type": "code",
   "execution_count": 4,
   "metadata": {},
   "outputs": [],
   "source": [
    "def outer_prod(vec_a, vec_b):\n",
    "    out = [[0]*len(vec_a)]*len(vec_b)\n",
    "    for i in range(len(vec_a)): \n",
    "        for j in range(len(vec_b)):\n",
    "            out[i][j] = vec_a[i]*vec_b[j] \n",
    "    return out"
   ]
  },
  {
   "cell_type": "code",
   "execution_count": 5,
   "metadata": {},
   "outputs": [],
   "source": [
    "for i in range(len(true)):\n",
    "    error[i] = (pred[i] - true[i]) ** 2 \n",
    "    delta[i] = pred[i] - true[i]\n",
    "\n",
    "weight_deltas = outer_prod(input,delta)\n"
   ]
  },
  {
   "cell_type": "markdown",
   "metadata": {},
   "source": [
    "###  Updating the weights"
   ]
  },
  {
   "cell_type": "code",
   "execution_count": null,
   "metadata": {},
   "outputs": [],
   "source": [
    "for i in range(len(weights)):\n",
    "    for j in range(len(weights[0])):\n",
    "        weights[i][j] -= alpha * weight_deltas[i][j]"
   ]
  }
 ],
 "metadata": {
  "kernelspec": {
   "display_name": "Python 3.10.6 64-bit",
   "language": "python",
   "name": "python3"
  },
  "language_info": {
   "codemirror_mode": {
    "name": "ipython",
    "version": 3
   },
   "file_extension": ".py",
   "mimetype": "text/x-python",
   "name": "python",
   "nbconvert_exporter": "python",
   "pygments_lexer": "ipython3",
   "version": "3.10.6"
  },
  "orig_nbformat": 4,
  "vscode": {
   "interpreter": {
    "hash": "aee8b7b246df8f9039afb4144a1f6fd8d2ca17a180786b69acc140d282b71a49"
   }
  }
 },
 "nbformat": 4,
 "nbformat_minor": 2
}
